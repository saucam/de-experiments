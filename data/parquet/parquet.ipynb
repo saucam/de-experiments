{
 "cells": [
  {
   "cell_type": "markdown",
   "id": "e0e2f9c9-7f87-42f2-8c21-3d5d55738a37",
   "metadata": {},
   "source": [
    "# Parquet For Data Processing\n",
    "\n",
    "This is a demo of parquet data format and its capabilities for big data processing.\n",
    "For this demo, we will be using pandas, sqlite, pyarrow and pyspark libraries to demonstrate the parquet capabilities.\n",
    "The dataset that we will use is an sqlite dump of [wikibooks](https://www.kaggle.com/datasets/dhruvildave/wikibooks-dataset) from kaggle. It contains 270K chapters of wikibooks in 12 languages, but we will concentrate on the English version.\n",
    "\n",
    "- pandas is an open source library providing high-performance, easy-to-use data structures and data analysis tools in Python.\n",
    "- sqlite is an embedded SQL database engine, that uses the more traditional [B-Tree data-format](https://www.sqlite.org/fileformat2.html) for storage on disk \n",
    "- pyarrow is Python API of the [Apache Arrow](https://arrow.apache.org/) framework that defines an in-memory data representation and can read/write parquet, including conversion to pandas.\n",
    "- pyspark is a Python API to the [Apache Spark Engine](https://spark.apache.org/), interfaces Python commands with a Java/Scala execution core, and thereby gives Python programmers access to the Parquet format as parquet is natively supported in spark."
   ]
  },
  {
   "cell_type": "code",
   "execution_count": 1,
   "id": "66d1e0fa-16bb-4f1c-a500-5dd450ad1b0e",
   "metadata": {},
   "outputs": [],
   "source": [
    "import sqlite3"
   ]
  },
  {
   "cell_type": "code",
   "execution_count": null,
   "id": "69ef3de4-8f97-4e63-a3dd-c391b8a76780",
   "metadata": {},
   "outputs": [],
   "source": []
  }
 ],
 "metadata": {
  "kernelspec": {
   "display_name": "Python 3 (ipykernel)",
   "language": "python",
   "name": "python3"
  },
  "language_info": {
   "codemirror_mode": {
    "name": "ipython",
    "version": 3
   },
   "file_extension": ".py",
   "mimetype": "text/x-python",
   "name": "python",
   "nbconvert_exporter": "python",
   "pygments_lexer": "ipython3",
   "version": "3.10.13"
  }
 },
 "nbformat": 4,
 "nbformat_minor": 5
}
